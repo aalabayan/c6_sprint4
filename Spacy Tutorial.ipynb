{
 "cells": [
  {
   "cell_type": "code",
   "execution_count": 1,
   "metadata": {},
   "outputs": [
    {
     "name": "stdout",
     "output_type": "stream",
     "text": [
      "Collecting spacy\n",
      "  Downloading spacy-3.0.3-cp38-cp38-win_amd64.whl (11.8 MB)\n",
      "Collecting blis<0.8.0,>=0.4.0\n",
      "  Downloading blis-0.7.4-cp38-cp38-win_amd64.whl (6.5 MB)\n",
      "Requirement already satisfied: numpy>=1.15.0 in c:\\users\\it\\anaconda3\\lib\\site-packages (from spacy) (1.19.2)\n",
      "Collecting preshed<3.1.0,>=3.0.2\n",
      "  Downloading preshed-3.0.5-cp38-cp38-win_amd64.whl (112 kB)\n",
      "Requirement already satisfied: tqdm<5.0.0,>=4.38.0 in c:\\users\\it\\anaconda3\\lib\\site-packages (from spacy) (4.50.2)\n",
      "Collecting pydantic<1.8.0,>=1.7.1\n",
      "  Downloading pydantic-1.7.3-cp38-cp38-win_amd64.whl (1.8 MB)\n",
      "Collecting spacy-legacy<3.1.0,>=3.0.0\n",
      "  Downloading spacy_legacy-3.0.1-py2.py3-none-any.whl (7.0 kB)\n",
      "Collecting catalogue<2.1.0,>=2.0.1\n",
      "  Downloading catalogue-2.0.1-py3-none-any.whl (9.6 kB)\n",
      "Requirement already satisfied: requests<3.0.0,>=2.13.0 in c:\\users\\it\\anaconda3\\lib\\site-packages (from spacy) (2.24.0)\n",
      "Requirement already satisfied: setuptools in c:\\users\\it\\anaconda3\\lib\\site-packages (from spacy) (50.3.1.post20201107)\n",
      "Requirement already satisfied: packaging>=20.0 in c:\\users\\it\\anaconda3\\lib\\site-packages (from spacy) (20.4)\n",
      "Collecting cymem<2.1.0,>=2.0.2\n",
      "  Downloading cymem-2.0.5-cp38-cp38-win_amd64.whl (36 kB)\n",
      "Collecting wasabi<1.1.0,>=0.8.1\n",
      "  Downloading wasabi-0.8.2-py3-none-any.whl (23 kB)\n",
      "Collecting thinc<8.1.0,>=8.0.0\n",
      "  Downloading thinc-8.0.1-cp38-cp38-win_amd64.whl (1.0 MB)\n",
      "Collecting typer<0.4.0,>=0.3.0\n",
      "  Downloading typer-0.3.2-py3-none-any.whl (21 kB)\n",
      "Requirement already satisfied: jinja2 in c:\\users\\it\\anaconda3\\lib\\site-packages (from spacy) (2.11.2)\n",
      "Collecting srsly<3.0.0,>=2.4.0\n",
      "  Downloading srsly-2.4.0-cp38-cp38-win_amd64.whl (451 kB)\n",
      "Collecting pathy\n",
      "  Downloading pathy-0.4.0-py3-none-any.whl (36 kB)\n",
      "Collecting murmurhash<1.1.0,>=0.28.0\n",
      "  Downloading murmurhash-1.0.5-cp38-cp38-win_amd64.whl (21 kB)\n",
      "Requirement already satisfied: urllib3!=1.25.0,!=1.25.1,<1.26,>=1.21.1 in c:\\users\\it\\anaconda3\\lib\\site-packages (from requests<3.0.0,>=2.13.0->spacy) (1.25.11)\n",
      "Requirement already satisfied: chardet<4,>=3.0.2 in c:\\users\\it\\anaconda3\\lib\\site-packages (from requests<3.0.0,>=2.13.0->spacy) (3.0.4)\n",
      "Requirement already satisfied: certifi>=2017.4.17 in c:\\users\\it\\anaconda3\\lib\\site-packages (from requests<3.0.0,>=2.13.0->spacy) (2020.12.5)\n",
      "Requirement already satisfied: idna<3,>=2.5 in c:\\users\\it\\anaconda3\\lib\\site-packages (from requests<3.0.0,>=2.13.0->spacy) (2.10)\n",
      "Requirement already satisfied: six in c:\\users\\it\\anaconda3\\lib\\site-packages (from packaging>=20.0->spacy) (1.15.0)\n",
      "Requirement already satisfied: pyparsing>=2.0.2 in c:\\users\\it\\anaconda3\\lib\\site-packages (from packaging>=20.0->spacy) (2.4.7)\n",
      "Requirement already satisfied: click<7.2.0,>=7.1.1 in c:\\users\\it\\anaconda3\\lib\\site-packages (from typer<0.4.0,>=0.3.0->spacy) (7.1.2)\n",
      "Requirement already satisfied: MarkupSafe>=0.23 in c:\\users\\it\\anaconda3\\lib\\site-packages (from jinja2->spacy) (1.1.1)\n",
      "Collecting smart-open<4.0.0,>=2.2.0\n",
      "  Downloading smart_open-3.0.0.tar.gz (113 kB)\n",
      "Building wheels for collected packages: smart-open\n",
      "  Building wheel for smart-open (setup.py): started\n",
      "  Building wheel for smart-open (setup.py): finished with status 'done'\n",
      "  Created wheel for smart-open: filename=smart_open-3.0.0-py3-none-any.whl size=107101 sha256=d9fc07af0e12b7812ae51616fb39a405ef071a5b8e215151c5a4cff29b8ff6f7\n",
      "  Stored in directory: c:\\users\\it\\appdata\\local\\pip\\cache\\wheels\\11\\73\\9a\\f91ac1f1816436b16423617c5be5db048697ff152a9c4346f2\n",
      "Successfully built smart-open\n",
      "Installing collected packages: blis, cymem, murmurhash, preshed, pydantic, spacy-legacy, catalogue, wasabi, srsly, thinc, typer, smart-open, pathy, spacy\n",
      "Successfully installed blis-0.7.4 catalogue-2.0.1 cymem-2.0.5 murmurhash-1.0.5 pathy-0.4.0 preshed-3.0.5 pydantic-1.7.3 smart-open-3.0.0 spacy-3.0.3 spacy-legacy-3.0.1 srsly-2.4.0 thinc-8.0.1 typer-0.3.2 wasabi-0.8.2\n"
     ]
    }
   ],
   "source": [
    "!pip install spacy"
   ]
  },
  {
   "cell_type": "code",
   "execution_count": 2,
   "metadata": {},
   "outputs": [
    {
     "name": "stdout",
     "output_type": "stream",
     "text": [
      "Collecting en-core-web-lg==3.0.0\n",
      "  Downloading https://github.com/explosion/spacy-models/releases/download/en_core_web_lg-3.0.0/en_core_web_lg-3.0.0-py3-none-any.whl (778.8 MB)\n",
      "Requirement already satisfied: spacy<3.1.0,>=3.0.0 in c:\\users\\it\\anaconda3\\lib\\site-packages (from en-core-web-lg==3.0.0) (3.0.3)\n",
      "Requirement already satisfied: packaging>=20.0 in c:\\users\\it\\anaconda3\\lib\\site-packages (from spacy<3.1.0,>=3.0.0->en-core-web-lg==3.0.0) (20.4)\n",
      "Requirement already satisfied: blis<0.8.0,>=0.4.0 in c:\\users\\it\\anaconda3\\lib\\site-packages (from spacy<3.1.0,>=3.0.0->en-core-web-lg==3.0.0) (0.7.4)\n",
      "Requirement already satisfied: pydantic<1.8.0,>=1.7.1 in c:\\users\\it\\anaconda3\\lib\\site-packages (from spacy<3.1.0,>=3.0.0->en-core-web-lg==3.0.0) (1.7.3)\n",
      "Requirement already satisfied: murmurhash<1.1.0,>=0.28.0 in c:\\users\\it\\anaconda3\\lib\\site-packages (from spacy<3.1.0,>=3.0.0->en-core-web-lg==3.0.0) (1.0.5)\n",
      "Requirement already satisfied: typer<0.4.0,>=0.3.0 in c:\\users\\it\\anaconda3\\lib\\site-packages (from spacy<3.1.0,>=3.0.0->en-core-web-lg==3.0.0) (0.3.2)\n",
      "Requirement already satisfied: spacy-legacy<3.1.0,>=3.0.0 in c:\\users\\it\\anaconda3\\lib\\site-packages (from spacy<3.1.0,>=3.0.0->en-core-web-lg==3.0.0) (3.0.1)\n",
      "Requirement already satisfied: catalogue<2.1.0,>=2.0.1 in c:\\users\\it\\anaconda3\\lib\\site-packages (from spacy<3.1.0,>=3.0.0->en-core-web-lg==3.0.0) (2.0.1)\n",
      "Requirement already satisfied: thinc<8.1.0,>=8.0.0 in c:\\users\\it\\anaconda3\\lib\\site-packages (from spacy<3.1.0,>=3.0.0->en-core-web-lg==3.0.0) (8.0.1)\n",
      "Requirement already satisfied: jinja2 in c:\\users\\it\\anaconda3\\lib\\site-packages (from spacy<3.1.0,>=3.0.0->en-core-web-lg==3.0.0) (2.11.2)\n",
      "Requirement already satisfied: setuptools in c:\\users\\it\\anaconda3\\lib\\site-packages (from spacy<3.1.0,>=3.0.0->en-core-web-lg==3.0.0) (50.3.1.post20201107)\n",
      "Requirement already satisfied: cymem<2.1.0,>=2.0.2 in c:\\users\\it\\anaconda3\\lib\\site-packages (from spacy<3.1.0,>=3.0.0->en-core-web-lg==3.0.0) (2.0.5)\n",
      "Requirement already satisfied: numpy>=1.15.0 in c:\\users\\it\\anaconda3\\lib\\site-packages (from spacy<3.1.0,>=3.0.0->en-core-web-lg==3.0.0) (1.19.2)\n",
      "Requirement already satisfied: requests<3.0.0,>=2.13.0 in c:\\users\\it\\anaconda3\\lib\\site-packages (from spacy<3.1.0,>=3.0.0->en-core-web-lg==3.0.0) (2.24.0)\n",
      "Requirement already satisfied: wasabi<1.1.0,>=0.8.1 in c:\\users\\it\\anaconda3\\lib\\site-packages (from spacy<3.1.0,>=3.0.0->en-core-web-lg==3.0.0) (0.8.2)\n",
      "Requirement already satisfied: srsly<3.0.0,>=2.4.0 in c:\\users\\it\\anaconda3\\lib\\site-packages (from spacy<3.1.0,>=3.0.0->en-core-web-lg==3.0.0) (2.4.0)\n",
      "Requirement already satisfied: preshed<3.1.0,>=3.0.2 in c:\\users\\it\\anaconda3\\lib\\site-packages (from spacy<3.1.0,>=3.0.0->en-core-web-lg==3.0.0) (3.0.5)\n",
      "Requirement already satisfied: tqdm<5.0.0,>=4.38.0 in c:\\users\\it\\anaconda3\\lib\\site-packages (from spacy<3.1.0,>=3.0.0->en-core-web-lg==3.0.0) (4.50.2)\n",
      "Requirement already satisfied: pathy in c:\\users\\it\\anaconda3\\lib\\site-packages (from spacy<3.1.0,>=3.0.0->en-core-web-lg==3.0.0) (0.4.0)\n",
      "Requirement already satisfied: pyparsing>=2.0.2 in c:\\users\\it\\anaconda3\\lib\\site-packages (from packaging>=20.0->spacy<3.1.0,>=3.0.0->en-core-web-lg==3.0.0) (2.4.7)\n",
      "Requirement already satisfied: six in c:\\users\\it\\anaconda3\\lib\\site-packages (from packaging>=20.0->spacy<3.1.0,>=3.0.0->en-core-web-lg==3.0.0) (1.15.0)\n",
      "Requirement already satisfied: click<7.2.0,>=7.1.1 in c:\\users\\it\\anaconda3\\lib\\site-packages (from typer<0.4.0,>=0.3.0->spacy<3.1.0,>=3.0.0->en-core-web-lg==3.0.0) (7.1.2)\n",
      "Requirement already satisfied: MarkupSafe>=0.23 in c:\\users\\it\\anaconda3\\lib\\site-packages (from jinja2->spacy<3.1.0,>=3.0.0->en-core-web-lg==3.0.0) (1.1.1)\n",
      "Requirement already satisfied: urllib3!=1.25.0,!=1.25.1,<1.26,>=1.21.1 in c:\\users\\it\\anaconda3\\lib\\site-packages (from requests<3.0.0,>=2.13.0->spacy<3.1.0,>=3.0.0->en-core-web-lg==3.0.0) (1.25.11)\n",
      "Requirement already satisfied: idna<3,>=2.5 in c:\\users\\it\\anaconda3\\lib\\site-packages (from requests<3.0.0,>=2.13.0->spacy<3.1.0,>=3.0.0->en-core-web-lg==3.0.0) (2.10)\n",
      "Requirement already satisfied: chardet<4,>=3.0.2 in c:\\users\\it\\anaconda3\\lib\\site-packages (from requests<3.0.0,>=2.13.0->spacy<3.1.0,>=3.0.0->en-core-web-lg==3.0.0) (3.0.4)\n",
      "Requirement already satisfied: certifi>=2017.4.17 in c:\\users\\it\\anaconda3\\lib\\site-packages (from requests<3.0.0,>=2.13.0->spacy<3.1.0,>=3.0.0->en-core-web-lg==3.0.0) (2020.12.5)\n",
      "Requirement already satisfied: smart-open<4.0.0,>=2.2.0 in c:\\users\\it\\anaconda3\\lib\\site-packages (from pathy->spacy<3.1.0,>=3.0.0->en-core-web-lg==3.0.0) (3.0.0)\n",
      "Installing collected packages: en-core-web-lg\n",
      "Successfully installed en-core-web-lg-3.0.0\n",
      "[+] Download and installation successful\n",
      "You can now load the package via spacy.load('en_core_web_lg')\n"
     ]
    }
   ],
   "source": [
    "!python -m spacy download en_core_web_lg"
   ]
  },
  {
   "cell_type": "code",
   "execution_count": 3,
   "metadata": {},
   "outputs": [
    {
     "name": "stdout",
     "output_type": "stream",
     "text": [
      "3.0.3\n"
     ]
    }
   ],
   "source": [
    "import spacy\n",
    "print(spacy.__version__)"
   ]
  },
  {
   "cell_type": "code",
   "execution_count": 4,
   "metadata": {},
   "outputs": [],
   "source": [
    "nlp = spacy.load('en_core_web_lg')"
   ]
  },
  {
   "cell_type": "code",
   "execution_count": 7,
   "metadata": {},
   "outputs": [
    {
     "name": "stdout",
     "output_type": "stream",
     "text": [
      "['I', 'am', 'flying', 'to', 'Manila', '.']\n"
     ]
    }
   ],
   "source": [
    "## tokenization\n",
    "\n",
    "doc = nlp(u'I am flying to Manila.')\n",
    "print([w.text for w in doc])"
   ]
  },
  {
   "cell_type": "code",
   "execution_count": 8,
   "metadata": {},
   "outputs": [
    {
     "name": "stdout",
     "output_type": "stream",
     "text": [
      "this this\n",
      "product product\n",
      "integrates integrate\n",
      "both both\n",
      "libraries library\n",
      "for for\n",
      "downloading download\n",
      "and and\n",
      "applying apply\n",
      "patches patch\n"
     ]
    }
   ],
   "source": [
    "### lemmatization\n",
    "\n",
    "doc = nlp(u'this product integrates both libraries for downloading and applying patches')\n",
    "for token in doc:\n",
    "    print(token.text, token.lemma_)"
   ]
  },
  {
   "cell_type": "code",
   "execution_count": 10,
   "metadata": {},
   "outputs": [
    {
     "name": "stdout",
     "output_type": "stream",
     "text": [
      "I PRON PRP\n",
      "have AUX VBP\n",
      "flown VERB VBN\n",
      "to ADP IN\n",
      "Cebu PROPN NNP\n",
      ". PUNCT .\n",
      "Now ADV RB\n",
      "I PRON PRP\n",
      "am AUX VBP\n",
      "flying VERB VBG\n",
      "to ADP IN\n",
      "Manila PROPN NNP\n",
      ". PUNCT .\n"
     ]
    }
   ],
   "source": [
    "### Part of speech tagging\n",
    "\n",
    "doc = nlp(u'I have flown to Cebu. Now I am flying to Manila.')\n",
    "for token in doc:\n",
    "    print(token.text, token.pos_, token.tag_)"
   ]
  },
  {
   "cell_type": "code",
   "execution_count": 11,
   "metadata": {},
   "outputs": [
    {
     "data": {
      "text/plain": [
       "'pronoun, personal'"
      ]
     },
     "execution_count": 11,
     "metadata": {},
     "output_type": "execute_result"
    }
   ],
   "source": [
    "spacy.explain('PRP')"
   ]
  },
  {
   "cell_type": "code",
   "execution_count": 12,
   "metadata": {},
   "outputs": [
    {
     "name": "stdout",
     "output_type": "stream",
     "text": [
      "[I, have, flown, to, Cebu, .]\n",
      "[Now, I, am, flying, to, Manila, .]\n"
     ]
    }
   ],
   "source": [
    "## Separating sentences\n",
    "\n",
    "doc = nlp(u'I have flown to Cebu. Now I am flying to Manila.')\n",
    "for sent in doc.sents:\n",
    "    print([sent[i] for i in range(len(sent))])"
   ]
  },
  {
   "cell_type": "code",
   "execution_count": 14,
   "metadata": {},
   "outputs": [
    {
     "data": {
      "text/plain": [
       "[The, Golden, Gate, Bridge, is, an, iconic, landmark, in, San, Francisco, .]"
      ]
     },
     "execution_count": 14,
     "metadata": {},
     "output_type": "execute_result"
    }
   ],
   "source": [
    "doc = nlp(u'The Golden Gate Bridge is an iconic landmark in San Francisco.')\n",
    "[doc[i] for i in range(len(doc))]"
   ]
  },
  {
   "cell_type": "code",
   "execution_count": 17,
   "metadata": {},
   "outputs": [
    {
     "name": "stdout",
     "output_type": "stream",
     "text": [
      "The the DET\n",
      "Golden Gate Bridge Golden Gate Bridge PROPN\n",
      "is be AUX\n",
      "an an DET\n",
      "iconic iconic ADJ\n",
      "landmark landmark NOUN\n",
      "in in ADP\n",
      "San Francisco San Francisco PROPN\n",
      ". . PUNCT\n"
     ]
    }
   ],
   "source": [
    "## Retokenizer\n",
    "\n",
    "with doc.retokenize() as retokenizer:\n",
    "    retokenizer.merge(doc[1:4])\n",
    "    \n",
    "\n",
    "with doc.retokenize() as retokenizer:\n",
    "    retokenizer.merge(doc[7:9])\n",
    "\n",
    "for token in doc:\n",
    "    print(token.text, token.lemma_, token.pos_)"
   ]
  },
  {
   "cell_type": "code",
   "execution_count": 18,
   "metadata": {},
   "outputs": [
    {
     "name": "stdout",
     "output_type": "stream",
     "text": [
      "I PRON nsubj nominal subject\n",
      "want VERB ROOT None\n",
      "a DET det determiner\n",
      "green ADJ amod adjectival modifier\n",
      "apple NOUN dobj direct object\n",
      ". PUNCT punct punctuation\n"
     ]
    }
   ],
   "source": [
    "### Syntactic Parsing\n",
    "\n",
    "doc = nlp(u'I want a green apple.')\n",
    "for token in doc:\n",
    "    print(token.text, token.pos_, token.dep_, spacy.explain(token.dep_))"
   ]
  },
  {
   "cell_type": "code",
   "execution_count": 19,
   "metadata": {},
   "outputs": [
    {
     "name": "stderr",
     "output_type": "stream",
     "text": [
      "C:\\Users\\IT\\anaconda3\\lib\\site-packages\\spacy\\displacy\\__init__.py:97: UserWarning: [W011] It looks like you're calling displacy.serve from within a Jupyter notebook or a similar environment. This likely means you're already running a local web server, so there's no need to make displaCy start another one. Instead, you should be able to replace displacy.serve with displacy.render to show the visualization.\n",
      "  warnings.warn(Warnings.W011)\n"
     ]
    },
    {
     "data": {
      "text/html": [
       "<span class=\"tex2jax_ignore\"><!DOCTYPE html>\n",
       "<html lang=\"en\">\n",
       "    <head>\n",
       "        <title>displaCy</title>\n",
       "    </head>\n",
       "\n",
       "    <body style=\"font-size: 16px; font-family: -apple-system, BlinkMacSystemFont, 'Segoe UI', Helvetica, Arial, sans-serif, 'Apple Color Emoji', 'Segoe UI Emoji', 'Segoe UI Symbol'; padding: 4rem 2rem; direction: ltr\">\n",
       "<figure style=\"margin-bottom: 6rem\">\n",
       "<svg xmlns=\"http://www.w3.org/2000/svg\" xmlns:xlink=\"http://www.w3.org/1999/xlink\" xml:lang=\"en\" id=\"51df57fb98b646c8ada6707a0f011079-0\" class=\"displacy\" width=\"925\" height=\"399.5\" direction=\"ltr\" style=\"max-width: none; height: 399.5px; color: #000000; background: #ffffff; font-family: Arial; direction: ltr\">\n",
       "<text class=\"displacy-token\" fill=\"currentColor\" text-anchor=\"middle\" y=\"309.5\">\n",
       "    <tspan class=\"displacy-word\" fill=\"currentColor\" x=\"50\">I</tspan>\n",
       "    <tspan class=\"displacy-tag\" dy=\"2em\" fill=\"currentColor\" x=\"50\">PRON</tspan>\n",
       "</text>\n",
       "\n",
       "<text class=\"displacy-token\" fill=\"currentColor\" text-anchor=\"middle\" y=\"309.5\">\n",
       "    <tspan class=\"displacy-word\" fill=\"currentColor\" x=\"225\">want</tspan>\n",
       "    <tspan class=\"displacy-tag\" dy=\"2em\" fill=\"currentColor\" x=\"225\">VERB</tspan>\n",
       "</text>\n",
       "\n",
       "<text class=\"displacy-token\" fill=\"currentColor\" text-anchor=\"middle\" y=\"309.5\">\n",
       "    <tspan class=\"displacy-word\" fill=\"currentColor\" x=\"400\">a</tspan>\n",
       "    <tspan class=\"displacy-tag\" dy=\"2em\" fill=\"currentColor\" x=\"400\">DET</tspan>\n",
       "</text>\n",
       "\n",
       "<text class=\"displacy-token\" fill=\"currentColor\" text-anchor=\"middle\" y=\"309.5\">\n",
       "    <tspan class=\"displacy-word\" fill=\"currentColor\" x=\"575\">green</tspan>\n",
       "    <tspan class=\"displacy-tag\" dy=\"2em\" fill=\"currentColor\" x=\"575\">ADJ</tspan>\n",
       "</text>\n",
       "\n",
       "<text class=\"displacy-token\" fill=\"currentColor\" text-anchor=\"middle\" y=\"309.5\">\n",
       "    <tspan class=\"displacy-word\" fill=\"currentColor\" x=\"750\">apple.</tspan>\n",
       "    <tspan class=\"displacy-tag\" dy=\"2em\" fill=\"currentColor\" x=\"750\">NOUN</tspan>\n",
       "</text>\n",
       "\n",
       "<g class=\"displacy-arrow\">\n",
       "    <path class=\"displacy-arc\" id=\"arrow-51df57fb98b646c8ada6707a0f011079-0-0\" stroke-width=\"2px\" d=\"M70,264.5 C70,177.0 215.0,177.0 215.0,264.5\" fill=\"none\" stroke=\"currentColor\"/>\n",
       "    <text dy=\"1.25em\" style=\"font-size: 0.8em; letter-spacing: 1px\">\n",
       "        <textPath xlink:href=\"#arrow-51df57fb98b646c8ada6707a0f011079-0-0\" class=\"displacy-label\" startOffset=\"50%\" side=\"left\" fill=\"currentColor\" text-anchor=\"middle\">nsubj</textPath>\n",
       "    </text>\n",
       "    <path class=\"displacy-arrowhead\" d=\"M70,266.5 L62,254.5 78,254.5\" fill=\"currentColor\"/>\n",
       "</g>\n",
       "\n",
       "<g class=\"displacy-arrow\">\n",
       "    <path class=\"displacy-arc\" id=\"arrow-51df57fb98b646c8ada6707a0f011079-0-1\" stroke-width=\"2px\" d=\"M420,264.5 C420,89.5 745.0,89.5 745.0,264.5\" fill=\"none\" stroke=\"currentColor\"/>\n",
       "    <text dy=\"1.25em\" style=\"font-size: 0.8em; letter-spacing: 1px\">\n",
       "        <textPath xlink:href=\"#arrow-51df57fb98b646c8ada6707a0f011079-0-1\" class=\"displacy-label\" startOffset=\"50%\" side=\"left\" fill=\"currentColor\" text-anchor=\"middle\">det</textPath>\n",
       "    </text>\n",
       "    <path class=\"displacy-arrowhead\" d=\"M420,266.5 L412,254.5 428,254.5\" fill=\"currentColor\"/>\n",
       "</g>\n",
       "\n",
       "<g class=\"displacy-arrow\">\n",
       "    <path class=\"displacy-arc\" id=\"arrow-51df57fb98b646c8ada6707a0f011079-0-2\" stroke-width=\"2px\" d=\"M595,264.5 C595,177.0 740.0,177.0 740.0,264.5\" fill=\"none\" stroke=\"currentColor\"/>\n",
       "    <text dy=\"1.25em\" style=\"font-size: 0.8em; letter-spacing: 1px\">\n",
       "        <textPath xlink:href=\"#arrow-51df57fb98b646c8ada6707a0f011079-0-2\" class=\"displacy-label\" startOffset=\"50%\" side=\"left\" fill=\"currentColor\" text-anchor=\"middle\">amod</textPath>\n",
       "    </text>\n",
       "    <path class=\"displacy-arrowhead\" d=\"M595,266.5 L587,254.5 603,254.5\" fill=\"currentColor\"/>\n",
       "</g>\n",
       "\n",
       "<g class=\"displacy-arrow\">\n",
       "    <path class=\"displacy-arc\" id=\"arrow-51df57fb98b646c8ada6707a0f011079-0-3\" stroke-width=\"2px\" d=\"M245,264.5 C245,2.0 750.0,2.0 750.0,264.5\" fill=\"none\" stroke=\"currentColor\"/>\n",
       "    <text dy=\"1.25em\" style=\"font-size: 0.8em; letter-spacing: 1px\">\n",
       "        <textPath xlink:href=\"#arrow-51df57fb98b646c8ada6707a0f011079-0-3\" class=\"displacy-label\" startOffset=\"50%\" side=\"left\" fill=\"currentColor\" text-anchor=\"middle\">dobj</textPath>\n",
       "    </text>\n",
       "    <path class=\"displacy-arrowhead\" d=\"M750.0,266.5 L758.0,254.5 742.0,254.5\" fill=\"currentColor\"/>\n",
       "</g>\n",
       "</svg>\n",
       "</figure>\n",
       "</body>\n",
       "</html></span>"
      ],
      "text/plain": [
       "<IPython.core.display.HTML object>"
      ]
     },
     "metadata": {},
     "output_type": "display_data"
    },
    {
     "name": "stdout",
     "output_type": "stream",
     "text": [
      "\n",
      "Using the 'dep' visualizer\n",
      "Serving on http://0.0.0.0:5000 ...\n",
      "\n",
      "Shutting down server on port 5000.\n"
     ]
    }
   ],
   "source": [
    "from spacy import displacy\n",
    "displacy.serve(doc, style='dep')"
   ]
  },
  {
   "cell_type": "code",
   "execution_count": 22,
   "metadata": {},
   "outputs": [
    {
     "name": "stdout",
     "output_type": "stream",
     "text": [
      "1.5 million\n"
     ]
    }
   ],
   "source": [
    "doc = nlp(u'The firm earned $1.5 million in 2017, in comparison with $1.2 million in 2016.')\n",
    "phrase = ''\n",
    "for token in doc:\n",
    "    if token.tag_ == '$':\n",
    "        i = token.i + 1\n",
    "        while doc[i].tag_ == 'CD':\n",
    "            phrase += doc[i].text + ' '\n",
    "            i += 1\n",
    "        break\n",
    "\n",
    "phrase = phrase[:-1]\n",
    "print(phrase)"
   ]
  },
  {
   "cell_type": "code",
   "execution_count": 23,
   "metadata": {},
   "outputs": [
    {
     "name": "stdout",
     "output_type": "stream",
     "text": [
      "$1.5 million\n",
      "$1.2 million\n"
     ]
    }
   ],
   "source": [
    "## taking 1.5 million and 1.2 million\n",
    "\n",
    "doc = nlp(u'The firm earned $1.5 million in 2017, in comparison with $1.2 million in 2016.')\n",
    "phrase = ''\n",
    "for token in doc:\n",
    "    if token.tag_ == '$':\n",
    "        phrase = token.text\n",
    "        i = token.i + 1\n",
    "        while doc[i].tag_ == 'CD':\n",
    "            phrase += doc[i].text + ' '\n",
    "            i += 1\n",
    "        phrase = phrase[:-1]\n",
    "        print(phrase)"
   ]
  },
  {
   "cell_type": "code",
   "execution_count": 24,
   "metadata": {},
   "outputs": [
    {
     "name": "stdout",
     "output_type": "stream",
     "text": [
      "['$1.5 million']\n"
     ]
    }
   ],
   "source": [
    "## using regex\n",
    "\n",
    "import re\n",
    "\n",
    "pattern = '\\$.*million'\n",
    "test_string = 'The firm earned $1.5 million in 2017'\n",
    "result = re.findall(pattern, test_string)\n",
    "print(result)"
   ]
  },
  {
   "cell_type": "code",
   "execution_count": 25,
   "metadata": {},
   "outputs": [
    {
     "name": "stdout",
     "output_type": "stream",
     "text": [
      "['$1.5 million', '$1.2 million']\n"
     ]
    }
   ],
   "source": [
    "## using regex\n",
    "\n",
    "import re\n",
    "\n",
    "pattern = '\\$.+?million'\n",
    "test_string = 'The firm earned $1.5 million in 2017, in comparison with $1.2 million in 2016.'\n",
    "result = re.findall(pattern, test_string)\n",
    "print(result)"
   ]
  },
  {
   "cell_type": "code",
   "execution_count": 26,
   "metadata": {},
   "outputs": [
    {
     "data": {
      "text/html": [
       "<span class=\"tex2jax_ignore\"><!DOCTYPE html>\n",
       "<html lang=\"en\">\n",
       "    <head>\n",
       "        <title>displaCy</title>\n",
       "    </head>\n",
       "\n",
       "    <body style=\"font-size: 16px; font-family: -apple-system, BlinkMacSystemFont, 'Segoe UI', Helvetica, Arial, sans-serif, 'Apple Color Emoji', 'Segoe UI Emoji', 'Segoe UI Symbol'; padding: 4rem 2rem; direction: ltr\">\n",
       "<figure style=\"margin-bottom: 6rem\">\n",
       "<div class=\"entities\" style=\"line-height: 2.5; direction: ltr\">I want a \n",
       "<mark class=\"entity\" style=\"background: #c887fb; padding: 0.45em 0.6em; margin: 0 0.25em; line-height: 1; border-radius: 0.35em;\">\n",
       "    Greek\n",
       "    <span style=\"font-size: 0.8em; font-weight: bold; line-height: 1; border-radius: 0.35em; vertical-align: middle; margin-left: 0.5rem\">NORP</span>\n",
       "</mark>\n",
       " pizza.</div>\n",
       "</figure>\n",
       "</body>\n",
       "</html></span>"
      ],
      "text/plain": [
       "<IPython.core.display.HTML object>"
      ]
     },
     "metadata": {},
     "output_type": "display_data"
    },
    {
     "data": {
      "text/plain": [
       "<IPython.core.display.HTML object>"
      ]
     },
     "metadata": {},
     "output_type": "display_data"
    }
   ],
   "source": [
    "from IPython.core.display import display, HTML\n",
    "\n",
    "doc = nlp(u'I want a Greek pizza.')\n",
    "\n",
    "from spacy import displacy\n",
    "html = displacy.render(doc, style='ent', page=True)\n",
    "\n",
    "display(HTML(html))"
   ]
  },
  {
   "cell_type": "code",
   "execution_count": 27,
   "metadata": {},
   "outputs": [
    {
     "data": {
      "text/plain": [
       "'Nationalities or religious or political groups'"
      ]
     },
     "execution_count": 27,
     "metadata": {},
     "output_type": "execute_result"
    }
   ],
   "source": [
    "spacy.explain('NORP')"
   ]
  },
  {
   "cell_type": "code",
   "execution_count": 29,
   "metadata": {},
   "outputs": [
    {
     "data": {
      "text/plain": [
       "0.8776482403927138"
      ]
     },
     "execution_count": 29,
     "metadata": {},
     "output_type": "execute_result"
    }
   ],
   "source": [
    "### Similarity\n",
    "\n",
    "doc = nlp('I want a green apple.')\n",
    "doc.similarity(doc[2:5])"
   ]
  },
  {
   "cell_type": "code",
   "execution_count": 31,
   "metadata": {},
   "outputs": [
    {
     "data": {
      "text/plain": [
       "1.0"
      ]
     },
     "execution_count": 31,
     "metadata": {},
     "output_type": "execute_result"
    }
   ],
   "source": [
    "doc.similarity(doc)"
   ]
  },
  {
   "cell_type": "code",
   "execution_count": 33,
   "metadata": {},
   "outputs": [
    {
     "data": {
      "text/plain": [
       "0.5831844168885263"
      ]
     },
     "execution_count": 33,
     "metadata": {},
     "output_type": "execute_result"
    }
   ],
   "source": [
    "nlp('apple').similarity(nlp('banana'))"
   ]
  },
  {
   "cell_type": "code",
   "execution_count": 34,
   "metadata": {},
   "outputs": [
    {
     "data": {
      "text/plain": [
       "0.7252610345406867"
      ]
     },
     "execution_count": 34,
     "metadata": {},
     "output_type": "execute_result"
    }
   ],
   "source": [
    "nlp('king').similarity(nlp('queen'))"
   ]
  },
  {
   "cell_type": "code",
   "execution_count": 36,
   "metadata": {},
   "outputs": [
    {
     "data": {
      "text/plain": [
       "0.6251328421409517"
      ]
     },
     "execution_count": 36,
     "metadata": {},
     "output_type": "execute_result"
    }
   ],
   "source": [
    "nlp('susceptible').similarity(nlp('vulnerable'))"
   ]
  },
  {
   "cell_type": "code",
   "execution_count": 41,
   "metadata": {},
   "outputs": [
    {
     "data": {
      "text/plain": [
       "array([ 1.3118e+00,  3.1203e-02,  6.9682e-01, -1.4502e-01, -5.4314e-01,\n",
       "       -3.3900e-01,  1.1069e+00,  3.1314e-01, -9.4353e-02, -1.4020e+00,\n",
       "        2.7567e-01, -6.6789e-01, -1.1626e-01, -3.3193e-01,  1.2936e-01,\n",
       "        5.1401e-01,  1.2313e+00, -1.5955e+00,  2.9266e-01, -1.2529e+00,\n",
       "       -9.0306e-01,  2.2884e-01,  2.8904e-01,  3.2362e-01,  8.0127e-01,\n",
       "       -3.0785e-01,  6.9487e-01, -1.8954e-01,  2.4882e-01,  3.4997e-01,\n",
       "        1.2864e+00,  7.5302e-01,  6.0450e-02,  3.4085e-01, -1.2464e-01,\n",
       "       -3.2313e-01,  3.7892e-01,  2.8298e-01, -8.0175e-02,  7.9767e-01,\n",
       "        8.4346e-01, -3.0442e-01, -8.4389e-01, -1.2494e-02, -5.9192e-02,\n",
       "        8.2790e-01,  2.2620e-01, -6.4191e-02,  1.1475e-01,  6.1042e-02,\n",
       "        7.5387e-01,  5.8426e-01, -2.1308e-01, -4.7659e-01,  5.5876e-01,\n",
       "        4.2223e-02,  3.8060e-01,  1.8259e-01, -8.8816e-02,  3.3387e-01,\n",
       "        1.1277e-01, -9.0535e-02,  6.5429e-01, -5.1379e-02, -7.4891e-02,\n",
       "       -2.6348e-01,  7.6872e-04, -1.0968e-01,  2.0391e-01,  7.2552e-02,\n",
       "        4.0517e-01, -4.3835e-01, -5.7160e-01, -5.1677e-01, -3.0074e-01,\n",
       "       -7.0150e-01, -1.1788e-01,  2.0421e-01, -3.4465e-01, -3.5246e-01,\n",
       "        1.5279e-01, -7.1925e-01,  9.4813e-02,  2.0387e-01,  6.3222e-02,\n",
       "       -1.0805e+00,  7.9361e-01,  1.3289e-01, -5.7961e-02,  1.8475e-01,\n",
       "        4.1323e-01, -5.9887e-01,  8.4506e-02, -4.9518e-02, -2.3635e-01,\n",
       "        1.2987e+00, -6.2448e-01, -4.8494e-02, -3.6937e-01,  2.2785e-02,\n",
       "        3.0793e-01,  4.6327e-01,  4.6706e-01, -8.2386e-01, -1.5569e-01,\n",
       "       -1.2509e+00, -3.1906e-01, -8.9212e-01, -1.3954e+00,  2.9814e-01,\n",
       "        2.0485e-01, -3.2210e-01, -8.5261e-01,  1.2703e-01, -5.4242e-01,\n",
       "        1.1353e-01, -2.4808e-01, -4.2458e-01, -9.3116e-02, -4.9347e-02,\n",
       "        1.8109e-01,  1.7448e-01,  9.1696e-01, -3.3887e-01, -5.1941e-01,\n",
       "        5.3247e-01, -5.9226e-02,  1.9516e-01, -4.5501e-01,  5.3942e-01,\n",
       "        6.6443e-01, -1.1808e-01,  2.7309e-01,  1.1495e+00,  1.1776e-02,\n",
       "       -7.0329e-01,  7.9525e-01,  5.7651e-01, -1.1502e+00,  1.9886e-01,\n",
       "        6.6540e-01,  1.2274e-01, -3.5566e-01, -1.7277e-01,  6.8466e-01,\n",
       "       -8.1640e-01,  4.0923e-01,  1.1797e-01,  1.2229e-01,  8.2337e-01,\n",
       "        3.8404e-01, -8.4086e-01, -5.1424e-01,  1.5661e-01, -4.2134e-01,\n",
       "        1.5243e-01, -1.9543e-01, -3.8798e-01, -2.7652e-01, -3.4310e-01,\n",
       "       -4.1208e-01,  6.9509e-01, -8.1842e-02, -2.4097e-01, -4.4220e-02,\n",
       "       -2.4526e-03,  6.3645e-02, -4.9931e-01, -3.2153e-01, -4.5637e-01,\n",
       "        9.2912e-01, -4.9205e-01,  1.2638e+00, -8.7205e-01,  3.0075e-01,\n",
       "        4.8461e-01, -4.9810e-01, -5.2396e-01, -6.2102e-01,  3.5060e-01,\n",
       "        1.9429e-01,  5.8447e-01, -1.3017e+00,  2.2010e-01,  4.1772e-01,\n",
       "        4.8987e-01,  1.3654e-01, -4.0899e-01,  5.7965e-01, -5.8979e-01,\n",
       "        6.7190e-01,  1.7387e-01, -6.1831e-02, -5.3191e-01, -3.1030e-01,\n",
       "       -6.5852e-01,  5.2705e-01, -6.7209e-01,  1.5208e+00, -1.3324e-01,\n",
       "       -1.5110e-01,  8.6860e-02,  1.9663e-01,  3.9311e-01, -5.3817e-01,\n",
       "       -6.8249e-01, -4.2479e-01, -4.3201e-01,  2.7231e-01,  5.5461e-01,\n",
       "        9.3300e-02, -2.0716e-01,  5.1591e-01,  5.2818e-01, -1.8230e-01,\n",
       "       -3.8587e-01,  1.6860e-02, -6.0736e-01,  6.1125e-01, -7.4043e-01,\n",
       "       -1.7718e-01, -5.9223e-01,  2.6741e-01, -1.0895e+00, -6.6124e-01,\n",
       "       -8.1024e-01, -4.6609e-01, -1.4436e-01, -5.8086e-01,  4.5899e-02,\n",
       "        5.5929e-01, -1.0402e+00,  6.9026e-01, -8.9363e-01, -1.9490e-01,\n",
       "        1.2253e+00, -1.8651e-01,  6.3674e-01,  1.9854e-01, -2.0176e-01,\n",
       "       -2.1958e-01, -2.6496e-01,  1.5789e-01, -3.3561e-01,  2.7009e-01,\n",
       "       -2.4084e-01,  4.0240e-01, -5.7479e-01,  9.5790e-01, -6.1479e-01,\n",
       "        6.4302e-01,  2.4062e-01,  3.8900e-01, -4.6836e-01,  4.8288e-01,\n",
       "       -4.7194e-01,  8.9365e-01,  1.1870e+00,  7.2759e-01, -7.0888e-01,\n",
       "        4.5736e-01, -2.4891e-01,  1.1053e-01,  1.0343e-01, -2.9302e-01,\n",
       "        3.5033e-01,  5.1739e-01,  7.4837e-01, -1.7935e-01, -8.6147e-01,\n",
       "       -1.0926e+00, -3.5495e-01, -1.1540e-02,  1.0565e+00, -8.9430e-02,\n",
       "        8.1588e-01, -7.2217e-01,  9.7330e-02, -3.3848e-01, -1.1358e+00,\n",
       "        6.5569e-01,  3.3151e-01,  2.3925e-01, -9.3010e-01,  5.0084e-01,\n",
       "        4.2913e-01, -7.2316e-01, -5.9225e-02,  4.8576e-01,  2.1745e-01,\n",
       "        6.0504e-01, -2.2817e-01,  5.7044e-01, -2.0140e-01,  3.7158e-01,\n",
       "       -1.3764e-01, -4.4275e-01,  1.2938e+00,  1.4357e-01, -7.7823e-01],\n",
       "      dtype=float32)"
      ]
     },
     "execution_count": 41,
     "metadata": {},
     "output_type": "execute_result"
    }
   ],
   "source": [
    "nlp('Pneumonoultramicroscopicsilicovolcanoconiosis').vector"
   ]
  },
  {
   "cell_type": "code",
   "execution_count": null,
   "metadata": {},
   "outputs": [],
   "source": []
  }
 ],
 "metadata": {
  "kernelspec": {
   "display_name": "Python 3",
   "language": "python",
   "name": "python3"
  },
  "language_info": {
   "codemirror_mode": {
    "name": "ipython",
    "version": 3
   },
   "file_extension": ".py",
   "mimetype": "text/x-python",
   "name": "python",
   "nbconvert_exporter": "python",
   "pygments_lexer": "ipython3",
   "version": "3.8.5"
  }
 },
 "nbformat": 4,
 "nbformat_minor": 4
}
