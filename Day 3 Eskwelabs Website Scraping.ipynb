{
 "cells": [
  {
   "cell_type": "code",
   "execution_count": 6,
   "metadata": {},
   "outputs": [
    {
     "name": "stdout",
     "output_type": "stream",
     "text": [
      "Unlocking Opportunities in Data Science for Social Good\n",
      "\"By surrounding yourself with people who are also pursuing data science for good, you will have the opportunity to collaborate and learn from each other to better not just the community you are working for, but also grow as individuals.\"\n",
      "Data Science Fellowship\n",
      "Data for Good\n",
      "READ MORE\n"
     ]
    }
   ],
   "source": [
    "from selenium import webdriver\n",
    "from selenium.webdriver.common.keys import Keys\n",
    "from selenium import webdriver\n",
    "from selenium.webdriver.common.by import By\n",
    "from selenium.webdriver.common.keys import Keys\n",
    "from selenium.webdriver.support.ui import WebDriverWait\n",
    "from selenium.webdriver.support.expected_conditions import presence_of_element_located\n",
    "import time\n",
    "\n",
    "path = 'chromedriver.exe'\n",
    "driver = webdriver.Chrome(path)\n",
    "driver.get('https://www.google.com/')\n",
    "search = driver.find_element_by_name('q')\n",
    "search.send_keys('eskwelabs')\n",
    "search.send_keys(Keys.RETURN)\n",
    "\n",
    "url = driver.current_url\n",
    "driver.get(url)\n",
    "alink = driver.find_element(By.PARTIAL_LINK_TEXT, 'Eskwelabs') #'//*[@id=\"rso\"]/div/div[1]/div/div/div[1]/a/h3')\n",
    "alink.click()\n",
    "url = driver.current_url\n",
    "driver.get(url)\n",
    "\n",
    "y = driver.find_element(By.XPATH, '//*[@id=\"__next\"]/div/main/div/section[5]/div/div[3]/article')\n",
    "print(y.text)"
   ]
  },
  {
   "cell_type": "code",
   "execution_count": null,
   "metadata": {},
   "outputs": [],
   "source": []
  },
  {
   "cell_type": "code",
   "execution_count": null,
   "metadata": {},
   "outputs": [],
   "source": []
  }
 ],
 "metadata": {
  "kernelspec": {
   "display_name": "Python 3",
   "language": "python",
   "name": "python3"
  },
  "language_info": {
   "codemirror_mode": {
    "name": "ipython",
    "version": 3
   },
   "file_extension": ".py",
   "mimetype": "text/x-python",
   "name": "python",
   "nbconvert_exporter": "python",
   "pygments_lexer": "ipython3",
   "version": "3.8.5"
  }
 },
 "nbformat": 4,
 "nbformat_minor": 4
}
